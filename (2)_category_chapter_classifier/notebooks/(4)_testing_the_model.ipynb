{
 "cells": [
  {
   "metadata": {},
   "cell_type": "markdown",
   "source": "# Usando el modelo entrenado para predecir categorías de nuevas preguntas",
   "id": "d7e322bcc88eebe3"
  },
  {
   "metadata": {
    "ExecuteTime": {
     "end_time": "2025-09-15T08:24:11.426952Z",
     "start_time": "2025-09-15T08:24:05.968505Z"
    }
   },
   "cell_type": "code",
   "source": [
    "import pandas as pd\n",
    "import numpy as np\n",
    "import pickle\n",
    "import os\n",
    "# Cargar datos de prueba\n",
    "df = pd.read_csv('data/augmented_questions_vector_category_chapter.csv')"
   ],
   "id": "48fe9c601e282302",
   "outputs": [],
   "execution_count": 1
  },
  {
   "cell_type": "code",
   "id": "initial_id",
   "metadata": {
    "collapsed": true,
    "ExecuteTime": {
     "end_time": "2025-09-15T08:24:33.235491Z",
     "start_time": "2025-09-15T08:24:33.034380Z"
    }
   },
   "source": [
    "\n",
    "# Ejemplo 3: Función optimizada que carga modelos una sola vez\n",
    "class HierarchicalPredictor:\n",
    "    \"\"\"Predictor que carga los modelos una sola vez para múltiples predicciones\"\"\"\n",
    "\n",
    "    def __init__(self, models_path='models_hierarchical/'):\n",
    "        self.models_path = models_path\n",
    "        self._load_models()\n",
    "\n",
    "    def _load_models(self):\n",
    "        \"\"\"Carga todos los modelos una sola vez\"\"\"\n",
    "        with open(f'{self.models_path}main_category_model.pkl', 'rb') as f:\n",
    "            self.main_model = pickle.load(f)\n",
    "        with open(f'{self.models_path}pca_transformer.pkl', 'rb') as f:\n",
    "            self.pca = pickle.load(f)\n",
    "        with open(f'{self.models_path}category_encoder.pkl', 'rb') as f:\n",
    "            self.cat_encoder = pickle.load(f)\n",
    "        with open(f'{self.models_path}theme_encoders.pkl', 'rb') as f:\n",
    "            self.theme_encoders = pickle.load(f)\n",
    "\n",
    "        # Cargar modelos de temas\n",
    "        self.theme_models = {}\n",
    "        for category in [1, 2, 3]:\n",
    "            path = f'{self.models_path}theme_model_categoria_{category}.pkl'\n",
    "            if os.path.exists(path):\n",
    "                with open(path, 'rb') as f:\n",
    "                    self.theme_models[category] = pickle.load(f)\n",
    "\n",
    "    def predict(self, embedding_string):\n",
    "        \"\"\"Predice categoría y tema\"\"\"\n",
    "        # Convertir y ajustar embedding\n",
    "        embedding = np.array([float(x.strip()) for x in embedding_string.strip('[]').split(',') if x.strip()])\n",
    "\n",
    "        expected_size = self.pca.n_features_in_\n",
    "        if len(embedding) < expected_size:\n",
    "            embedding = np.pad(embedding, (0, expected_size - len(embedding)), mode='constant')\n",
    "        elif len(embedding) > expected_size:\n",
    "            embedding = embedding[:expected_size]\n",
    "\n",
    "        # PCA y predicción de categoría\n",
    "        embedding_pca = self.pca.transform(embedding.reshape(1, -1))\n",
    "        category_pred = self.main_model.predict(embedding_pca)[0]\n",
    "        category = self.cat_encoder.inverse_transform([category_pred])[0]\n",
    "\n",
    "        # Predicción de tema\n",
    "        theme = None\n",
    "        if category in self.theme_models and category in self.theme_encoders:\n",
    "            theme_pred = self.theme_models[category].predict(embedding_pca)[0]\n",
    "            theme = self.theme_encoders[category].inverse_transform([theme_pred])[0]\n",
    "\n",
    "        return {'category': int(category), 'theme': int(theme) if theme else None}\n",
    "\n",
    "# Uso del predictor optimizado\n",
    "predictor = HierarchicalPredictor()\n",
    "\n",
    "# Predecir múltiples muestras rápidamente\n",
    "for i in range(5):\n",
    "    embedding = df.iloc[i]['vector']\n",
    "    pred = predictor.predict(embedding)\n",
    "    real_cat = df.iloc[i]['category']\n",
    "    real_theme = df.iloc[i]['chapter']\n",
    "\n",
    "    cat_ok = pred['category'] == real_cat\n",
    "    theme_ok = pred['theme'] == real_theme\n",
    "\n",
    "    print(f\"Muestra {i}: Cat({real_cat}→{pred['category']}) {'✓' if cat_ok else '✗'} | \"\n",
    "          f\"Tema({real_theme}→{pred['theme']}) {'✓' if theme_ok else '✗'}\")"
   ],
   "outputs": [
    {
     "name": "stdout",
     "output_type": "stream",
     "text": [
      "Muestra 0: Cat(1→1) ✓ | Tema(26→26) ✓\n",
      "Muestra 1: Cat(1→1) ✓ | Tema(26→26) ✓\n",
      "Muestra 2: Cat(1→1) ✓ | Tema(26→26) ✓\n",
      "Muestra 3: Cat(1→1) ✓ | Tema(26→26) ✓\n",
      "Muestra 4: Cat(1→1) ✓ | Tema(26→26) ✓\n"
     ]
    }
   ],
   "execution_count": 2
  }
 ],
 "metadata": {
  "kernelspec": {
   "display_name": "Python 3",
   "language": "python",
   "name": "python3"
  },
  "language_info": {
   "codemirror_mode": {
    "name": "ipython",
    "version": 2
   },
   "file_extension": ".py",
   "mimetype": "text/x-python",
   "name": "python",
   "nbconvert_exporter": "python",
   "pygments_lexer": "ipython2",
   "version": "2.7.6"
  }
 },
 "nbformat": 4,
 "nbformat_minor": 5
}
